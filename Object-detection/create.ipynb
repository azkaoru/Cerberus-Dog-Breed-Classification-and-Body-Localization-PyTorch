{
 "cells": [
  {
   "cell_type": "code",
   "execution_count": 20,
   "metadata": {},
   "outputs": [
    {
     "name": "stdout",
     "output_type": "stream",
     "text": [
      "loading Roboflow workspace...\n",
      "loading Roboflow project...\n",
      "\n",
      "Version export complete for yolov5pytorch format\n",
      "Downloading Dataset Version Zip in Cerberus-12 to yolov5pytorch: 100% [28346787 / 28346787] bytes\n"
     ]
    },
    {
     "name": "stderr",
     "output_type": "stream",
     "text": [
      "Extracting Dataset Version Zip to Cerberus-12 in yolov5pytorch:: 100%|██████████| 616/616 [00:00<00:00, 724.52it/s]\n"
     ]
    }
   ],
   "source": [
    "#Download dataset and annotations from roboflow\n",
    "\n",
    "from roboflow import Roboflow\n",
    "rf = Roboflow(api_key=\"ewoNsPmelTaDzAgol6iU\")\n",
    "project = rf.workspace(\"unibo-hheit\").project(\"cerberus\")\n",
    "dataset = project.version(12).download(\"yolov5\")\n",
    "\n",
    "\n",
    "# Install clearml for monitoring the project then initialize it\n",
    "\n",
    "# pip install clearml\n",
    "# clearml-init\n"
   ]
  },
  {
   "cell_type": "code",
   "execution_count": null,
   "metadata": {},
   "outputs": [],
   "source": [
    "# Training\n",
    "!python ./yolov5/train.py --project Cerberus --name training_test_ --img 640 --batch 8 --epochs 50 --data ./yolov5/Cerberus-12/data.yaml --weights ./yolov5/yolov5s.pt --cache"
   ]
  },
  {
   "cell_type": "code",
   "execution_count": 22,
   "metadata": {},
   "outputs": [
    {
     "name": "stderr",
     "output_type": "stream",
     "text": [
      "\u001b[34m\u001b[1mdetect: \u001b[0mweights=['./Cerberus/training_test_/weights/best.pt'], source=./yolov5/Cerberus-12/test/images, data=yolov5\\data\\coco128.yaml, imgsz=[640, 640], conf_thres=0.5, iou_thres=0.45, max_det=1000, device=, view_img=False, save_txt=False, save_conf=False, save_crop=False, nosave=False, classes=None, agnostic_nms=False, augment=False, visualize=False, update=False, project=yolov5\\runs\\detect, name=exp, exist_ok=False, line_thickness=3, hide_labels=False, hide_conf=False, half=False, dnn=False, vid_stride=1\n",
      "YOLOv5  2023-6-18 Python-3.11.4 torch-2.0.1+cpu CPU\n",
      "\n",
      "Fusing layers... \n",
      "Model summary: 157 layers, 7018216 parameters, 0 gradients, 15.8 GFLOPs\n",
      "image 1/10 C:\\Users\\massi\\Desktop\\Cerberus\\Cerberus-Dog-Breed-Classification-and-Body-Localization-PyTorch\\Object-detection\\yolov5\\Cerberus-12\\test\\images\\n02088364_10585_jpg.rf.76f2c216d085d743f79c0b8a1b4c934e.jpg: 640x640 1 0, 1 1, 412.1ms\n",
      "image 2/10 C:\\Users\\massi\\Desktop\\Cerberus\\Cerberus-Dog-Breed-Classification-and-Body-Localization-PyTorch\\Object-detection\\yolov5\\Cerberus-12\\test\\images\\n02088364_10798_jpg.rf.e54dec7933fc4604f82be98d47a5b2ed.jpg: 640x640 1 0, 1 1, 1 2, 271.1ms\n",
      "image 3/10 C:\\Users\\massi\\Desktop\\Cerberus\\Cerberus-Dog-Breed-Classification-and-Body-Localization-PyTorch\\Object-detection\\yolov5\\Cerberus-12\\test\\images\\n02088364_10947_jpg.rf.179b47dfaf020405a79e927f3727e37c.jpg: 640x640 1 0, 260.9ms\n",
      "image 4/10 C:\\Users\\massi\\Desktop\\Cerberus\\Cerberus-Dog-Breed-Classification-and-Body-Localization-PyTorch\\Object-detection\\yolov5\\Cerberus-12\\test\\images\\n02110185_10844_jpg.rf.d67d525db0ab6e5741d7398a93caa70d.jpg: 640x640 1 0, 1 1, 276.2ms\n",
      "image 5/10 C:\\Users\\massi\\Desktop\\Cerberus\\Cerberus-Dog-Breed-Classification-and-Body-Localization-PyTorch\\Object-detection\\yolov5\\Cerberus-12\\test\\images\\n02110185_13197_jpg.rf.967f4ebf987b798b11e1e1034f8c309d.jpg: 640x640 1 0, 1 1, 320.5ms\n",
      "image 6/10 C:\\Users\\massi\\Desktop\\Cerberus\\Cerberus-Dog-Breed-Classification-and-Body-Localization-PyTorch\\Object-detection\\yolov5\\Cerberus-12\\test\\images\\n02110185_353_jpg.rf.6bab03358b507f957643b24ba3008dce.jpg: 640x640 (no detections), 280.2ms\n",
      "image 7/10 C:\\Users\\massi\\Desktop\\Cerberus\\Cerberus-Dog-Breed-Classification-and-Body-Localization-PyTorch\\Object-detection\\yolov5\\Cerberus-12\\test\\images\\n02110185_632_jpg.rf.342771c218f4a99c3d0050c2397a00fd.jpg: 640x640 (no detections), 308.2ms\n",
      "image 8/10 C:\\Users\\massi\\Desktop\\Cerberus\\Cerberus-Dog-Breed-Classification-and-Body-Localization-PyTorch\\Object-detection\\yolov5\\Cerberus-12\\test\\images\\n02110185_698_jpg.rf.04455e6c62790addc8241aa8e3209872.jpg: 640x640 1 0, 1 1, 298.2ms\n",
      "image 9/10 C:\\Users\\massi\\Desktop\\Cerberus\\Cerberus-Dog-Breed-Classification-and-Body-Localization-PyTorch\\Object-detection\\yolov5\\Cerberus-12\\test\\images\\n140197_jpg.rf.b81acd63855fb1215533e16cf366c60b.jpg: 640x640 1 0, 1 1, 338.1ms\n",
      "image 10/10 C:\\Users\\massi\\Desktop\\Cerberus\\Cerberus-Dog-Breed-Classification-and-Body-Localization-PyTorch\\Object-detection\\yolov5\\Cerberus-12\\test\\images\\n140245_jpg.rf.6e55c7126c020845312c26b9670da9b4.jpg: 640x640 1 0, 1 1, 677.9ms\n",
      "Speed: 2.6ms pre-process, 344.3ms inference, 1.2ms NMS per image at shape (1, 3, 640, 640)\n",
      "Results saved to \u001b[1myolov5\\runs\\detect\\exp3\u001b[0m\n"
     ]
    }
   ],
   "source": [
    "# Detect\n",
    "!python ./yolov5/detect.py --weights ./Cerberus/training_test_/weights/best.pt --img 640 --conf 0.5 --source ./yolov5/Cerberus-12/test/images\n"
   ]
  },
  {
   "cell_type": "code",
   "execution_count": 19,
   "metadata": {},
   "outputs": [
    {
     "name": "stderr",
     "output_type": "stream",
     "text": [
      "\u001b[34m\u001b[1mval: \u001b[0mdata=./yolov5/Cerberus-10/data.yaml, weights=['./Cerberus/training_test_2/weights/best.pt'], batch_size=32, imgsz=640, conf_thres=0.001, iou_thres=0.6, max_det=300, task=val, device=, workers=8, single_cls=False, augment=False, verbose=False, save_txt=False, save_hybrid=False, save_conf=False, save_json=False, project=yolov5\\runs\\val, name=exp, exist_ok=False, half=False, dnn=False\n",
      "YOLOv5  2023-6-18 Python-3.11.4 torch-2.0.1+cpu CPU\n",
      "\n",
      "Fusing layers... \n",
      "Model summary: 157 layers, 7018216 parameters, 0 gradients, 15.8 GFLOPs\n",
      "\n",
      "\u001b[34m\u001b[1mval: \u001b[0mScanning C:\\Users\\massi\\Desktop\\Cerberus\\Cerberus-Dog-Breed-Classification-and-Body-Localization-PyTorch\\Object-detection\\yolov5\\Cerberus-10\\valid\\labels.cache... 6 images, 0 backgrounds, 0 corrupt: 100%|██████████| 6/6 [00:00<?, ?it/s]\n",
      "\u001b[34m\u001b[1mval: \u001b[0mScanning C:\\Users\\massi\\Desktop\\Cerberus\\Cerberus-Dog-Breed-Classification-and-Body-Localization-PyTorch\\Object-detection\\yolov5\\Cerberus-10\\valid\\labels.cache... 6 images, 0 backgrounds, 0 corrupt: 100%|██████████| 6/6 [00:00<?, ?it/s]\n",
      "\n",
      "                 Class     Images  Instances          P          R      mAP50   mAP50-95:   0%|          | 0/1 [00:00<?, ?it/s]\n",
      "                 Class     Images  Instances          P          R      mAP50   mAP50-95: 100%|██████████| 1/1 [00:12<00:00, 12.95s/it]\n",
      "                 Class     Images  Instances          P          R      mAP50   mAP50-95: 100%|██████████| 1/1 [00:12<00:00, 12.95s/it]\n",
      "                   all          6         22      0.525      0.167      0.173     0.0808\n",
      "                     0          6          8      0.239       0.25      0.224      0.142\n",
      "                     1          6          8      0.338       0.25      0.216     0.0605\n",
      "                     2          6          6          1          0     0.0798     0.0398\n",
      "Speed: 7.8ms pre-process, 309.5ms inference, 21.1ms NMS per image at shape (32, 3, 640, 640)\n",
      "Results saved to \u001b[1myolov5\\runs\\val\\exp\u001b[0m\n"
     ]
    }
   ],
   "source": [
    "# Validate \n",
    "!python ./yolov5/val.py --weights ./Cerberus/training_test_/weights/best.pt --data ./yolov5/Cerberus-12/data.yaml --img 640 \n"
   ]
  }
 ],
 "metadata": {
  "kernelspec": {
   "display_name": "cerberus",
   "language": "python",
   "name": "python3"
  },
  "language_info": {
   "codemirror_mode": {
    "name": "ipython",
    "version": 3
   },
   "file_extension": ".py",
   "mimetype": "text/x-python",
   "name": "python",
   "nbconvert_exporter": "python",
   "pygments_lexer": "ipython3",
   "version": "3.11.4"
  },
  "orig_nbformat": 4
 },
 "nbformat": 4,
 "nbformat_minor": 2
}
