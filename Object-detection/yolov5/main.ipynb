{
 "cells": [
  {
   "cell_type": "code",
   "execution_count": 1,
   "metadata": {},
   "outputs": [
    {
     "name": "stderr",
     "output_type": "stream",
     "text": [
      "ERROR: pip's dependency resolver does not currently take into account all the packages that are installed. This behaviour is the source of the following dependency conflicts.\n",
      "comet-ml 3.1.4 requires jsonschema<3.1.0,>=2.6.0, but you have jsonschema 3.2.0 which is incompatible.\n"
     ]
    },
    {
     "name": "stdout",
     "output_type": "stream",
     "text": [
      "Note: you may need to restart the kernel to use updated packages.\n",
      "Setup complete. Using torch 2.0.1+cpu (CPU)\n"
     ]
    }
   ],
   "source": [
    "\n",
    "\"\"\"\n",
    "#clone YOLOv5 and \n",
    "!git clone https://github.com/ultralytics/yolov5  # clone repo\n",
    "%cd yolov5\n",
    "\n",
    "# activate conda env then install the requirements:\n",
    "%pip install -qr requirements.txt \n",
    "%pip install -q roboflow\n",
    "\"\"\"\n",
    "import torch\n",
    "import os\n",
    "from IPython.display import Image, clear_output  # to display images\n",
    "\n",
    "print(f\"Setup complete. Using torch {torch.__version__} ({torch.cuda.get_device_properties(0).name if torch.cuda.is_available() else 'CPU'})\")"
   ]
  },
  {
   "cell_type": "code",
   "execution_count": 2,
   "metadata": {},
   "outputs": [
    {
     "name": "stdout",
     "output_type": "stream",
     "text": [
      "loading Roboflow workspace...\n",
      "loading Roboflow project...\n",
      "Downloading Dataset Version Zip in Cerberus-9 to yolov5pytorch: 100% [9218793 / 9218793] bytes\n"
     ]
    },
    {
     "name": "stderr",
     "output_type": "stream",
     "text": [
      "Extracting Dataset Version Zip to Cerberus-9 in yolov5pytorch:: 100%|██████████| 332/332 [00:00<00:00, 1206.50it/s]\n"
     ]
    }
   ],
   "source": [
    "#download dataset and annotations from roboflow\n",
    "from roboflow import Roboflow\n",
    "rf = Roboflow(api_key=\"ewoNsPmelTaDzAgol6iU\")\n",
    "project = rf.workspace(\"unibo-hheit\").project(\"cerberus\")\n",
    "dataset = project.version(9).download(\"yolov5\")\n",
    "\n"
   ]
  },
  {
   "cell_type": "code",
   "execution_count": null,
   "metadata": {},
   "outputs": [],
   "source": [
    "# Install clearml for monitoring the projext then initialize it\n",
    "\n",
    "# pip install clearml\n",
    "# clearml-init"
   ]
  },
  {
   "cell_type": "code",
   "execution_count": 9,
   "metadata": {},
   "outputs": [
    {
     "name": "stderr",
     "output_type": "stream",
     "text": [
      "Traceback (most recent call last):\n",
      "  File \"c:\\Users\\massi\\Desktop\\Cerberus-2\\yolov5\\train.py\", line 62, in <module>\n",
      "    from utils.loggers.comet.comet_utils import check_comet_resume\n",
      "  File \"c:\\Users\\massi\\Desktop\\Cerberus-2\\yolov5\\utils\\loggers\\comet\\__init__.py\", line 19, in <module>\n",
      "    config = comet_ml.config.get_config()\n",
      "             ^^^^^^^^^^^^^^^\n",
      "AttributeError: module 'comet_ml' has no attribute 'config'\n"
     ]
    }
   ],
   "source": [
    "#Start the training\n",
    "!python train.py --project Cerberus --name training_test_ --img 640 --batch 6 --epochs 5 --data ./Cerberus-9/data.yaml --weights yolov5s.pt --cache"
   ]
  }
 ],
 "metadata": {
  "kernelspec": {
   "display_name": "cerberus",
   "language": "python",
   "name": "python3"
  },
  "language_info": {
   "codemirror_mode": {
    "name": "ipython",
    "version": 3
   },
   "file_extension": ".py",
   "mimetype": "text/x-python",
   "name": "python",
   "nbconvert_exporter": "python",
   "pygments_lexer": "ipython3",
   "version": "3.11.4"
  },
  "orig_nbformat": 4
 },
 "nbformat": 4,
 "nbformat_minor": 2
}
