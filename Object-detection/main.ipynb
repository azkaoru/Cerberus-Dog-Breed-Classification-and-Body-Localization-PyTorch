{
 "cells": [
  {
   "cell_type": "code",
   "execution_count": 17,
   "metadata": {},
   "outputs": [
    {
     "name": "stdout",
     "output_type": "stream",
     "text": [
      "loading Roboflow workspace...\n",
      "loading Roboflow project...\n",
      "Downloading Dataset Version Zip in Cerberus-10 to yolov5pytorch: 100% [4497982 / 4497982] bytes\n"
     ]
    },
    {
     "name": "stderr",
     "output_type": "stream",
     "text": [
      "Extracting Dataset Version Zip to Cerberus-10 in yolov5pytorch:: 100%|██████████| 162/162 [00:00<00:00, 727.70it/s]\n"
     ]
    }
   ],
   "source": [
    "#Download dataset and annotations from roboflow\n",
    "\n",
    "\n",
    "from roboflow import Roboflow\n",
    "rf = Roboflow(api_key=\"ewoNsPmelTaDzAgol6iU\")\n",
    "project = rf.workspace(\"unibo-hheit\").project(\"cerberus\")\n",
    "dataset = project.version(10).download(\"yolov5\")\n",
    "\n",
    "\n",
    "# Install clearml for monitoring the project then initialize it\n",
    "\n",
    "# pip install clearml\n",
    "# clearml-init\n",
    "\n",
    "\n"
   ]
  },
  {
   "cell_type": "code",
   "execution_count": null,
   "metadata": {},
   "outputs": [],
   "source": [
    "# Training\n",
    "!python ./yolov5/train.py --project Cerberus --name training_test_ --img 640 --batch 8 --epochs 50 --data ./yolov5/Cerberus-10/data.yaml --weights ./yolov5/yolov5s.pt --cache"
   ]
  },
  {
   "cell_type": "code",
   "execution_count": 16,
   "metadata": {},
   "outputs": [
    {
     "name": "stderr",
     "output_type": "stream",
     "text": [
      "\u001b[34m\u001b[1mdetect: \u001b[0mweights=['./yolov5/runs/train/exp7/weights/best.pt'], source=./1.jpg, data=./yolov5/Cerberus-Dataset/data.yaml, imgsz=[640, 640], conf_thres=0.25, iou_thres=0.45, max_det=1000, device=, view_img=False, save_txt=False, save_conf=False, save_crop=False, nosave=False, classes=None, agnostic_nms=False, augment=False, visualize=False, update=False, project=yolov5\\runs\\detect, name=exp, exist_ok=False, line_thickness=3, hide_labels=False, hide_conf=False, half=False, dnn=False, vid_stride=1\n",
      "YOLOv5  2023-6-18 Python-3.11.4 torch-2.0.1+cpu CPU\n",
      "\n",
      "Fusing layers... \n",
      "Model summary: 157 layers, 7018216 parameters, 0 gradients, 15.8 GFLOPs\n",
      "image 1/1 C:\\Users\\massi\\Desktop\\Cerberus\\Cerberus-Dog-Breed-Classification-and-Body-Localization-PyTorch\\Object-detection\\1.jpg: 480x640 2 0s, 2 1s, 199.6ms\n",
      "Speed: 1.0ms pre-process, 199.6ms inference, 1.0ms NMS per image at shape (1, 3, 640, 640)\n",
      "Results saved to \u001b[1myolov5\\runs\\detect\\exp2\u001b[0m\n"
     ]
    }
   ],
   "source": [
    "# Inference\n",
    "!python ./yolov5/detect.py --weights ./yolov5/runs/train/exp7/weights/best.pt --source ./1.jpg --data ./yolov5/Cerberus-Dataset/data.yaml"
   ]
  },
  {
   "cell_type": "code",
   "execution_count": 14,
   "metadata": {},
   "outputs": [
    {
     "name": "stderr",
     "output_type": "stream",
     "text": [
      "\u001b[34m\u001b[1mval: \u001b[0mdata=./yolov5/Cerberus-9/data.yaml, weights=['./yolov5/runs/train/exp7/weights/best.pt'], batch_size=32, imgsz=640, conf_thres=0.001, iou_thres=0.6, max_det=300, task=val, device=, workers=8, single_cls=False, augment=False, verbose=False, save_txt=False, save_hybrid=False, save_conf=False, save_json=False, project=yolov5\\runs\\val, name=exp, exist_ok=False, half=False, dnn=False\n",
      "YOLOv5  2023-6-18 Python-3.11.4 torch-2.0.1+cpu CPU\n",
      "\n",
      "Fusing layers... \n",
      "Model summary: 157 layers, 7018216 parameters, 0 gradients, 15.8 GFLOPs\n",
      "\n",
      "\u001b[34m\u001b[1mval: \u001b[0mScanning C:\\Users\\massi\\Desktop\\Cerberus\\Cerberus-Dog-Breed-Classification-and-Body-Localization-PyTorch\\Object-detection\\yolov5\\Cerberus-9\\valid\\labels...:   0%|          | 0/5 [00:00<?, ?it/s]\n",
      "\u001b[34m\u001b[1mval: \u001b[0mScanning C:\\Users\\massi\\Desktop\\Cerberus\\Cerberus-Dog-Breed-Classification-and-Body-Localization-PyTorch\\Object-detection\\yolov5\\Cerberus-9\\valid\\labels... 1 images, 0 backgrounds, 0 corrupt:  20%|██        | 1/5 [00:08<00:35,  8.84s/it]\n",
      "\u001b[34m\u001b[1mval: \u001b[0mScanning C:\\Users\\massi\\Desktop\\Cerberus\\Cerberus-Dog-Breed-Classification-and-Body-Localization-PyTorch\\Object-detection\\yolov5\\Cerberus-9\\valid\\labels... 5 images, 0 backgrounds, 0 corrupt: 100%|██████████| 5/5 [00:08<00:00,  1.77s/it]\n",
      "\u001b[34m\u001b[1mval: \u001b[0mWARNING  Cache directory C:\\Users\\massi\\Desktop\\Cerberus\\Cerberus-Dog-Breed-Classification-and-Body-Localization-PyTorch\\Object-detection\\yolov5\\Cerberus-9\\valid is not writeable: [WinError 183] Impossibile creare un file, se il file esiste gi: 'C:\\\\Users\\\\massi\\\\Desktop\\\\Cerberus\\\\Cerberus-Dog-Breed-Classification-and-Body-Localization-PyTorch\\\\Object-detection\\\\yolov5\\\\Cerberus-9\\\\valid\\\\labels.cache.npy' -> 'C:\\\\Users\\\\massi\\\\Desktop\\\\Cerberus\\\\Cerberus-Dog-Breed-Classification-and-Body-Localization-PyTorch\\\\Object-detection\\\\yolov5\\\\Cerberus-9\\\\valid\\\\labels.cache'\n",
      "\n",
      "                 Class     Images  Instances          P          R      mAP50   mAP50-95:   0%|          | 0/1 [00:00<?, ?it/s]\n",
      "                 Class     Images  Instances          P          R      mAP50   mAP50-95: 100%|██████████| 1/1 [00:12<00:00, 12.03s/it]\n",
      "                 Class     Images  Instances          P          R      mAP50   mAP50-95: 100%|██████████| 1/1 [00:12<00:00, 12.03s/it]\n",
      "                   all          5         16      0.832      0.437        0.5      0.173\n",
      "                     0          5          6          1       0.81      0.955      0.263\n",
      "                     1          5          6      0.497        0.5      0.516      0.234\n",
      "                     2          5          4          1          0     0.0297      0.021\n",
      "Speed: 4.0ms pre-process, 362.8ms inference, 5.2ms NMS per image at shape (32, 3, 640, 640)\n",
      "Results saved to \u001b[1myolov5\\runs\\val\\exp\u001b[0m\n"
     ]
    }
   ],
   "source": [
    "# Validate \n",
    "!python ./yolov5/val.py --weights ./yolov5/runs/train/exp7/weights/best.pt --data ./yolov5/Cerberus-Dataset/data.yaml --img 640 \n"
   ]
  }
 ],
 "metadata": {
  "kernelspec": {
   "display_name": "cerberus",
   "language": "python",
   "name": "python3"
  },
  "language_info": {
   "codemirror_mode": {
    "name": "ipython",
    "version": 3
   },
   "file_extension": ".py",
   "mimetype": "text/x-python",
   "name": "python",
   "nbconvert_exporter": "python",
   "pygments_lexer": "ipython3",
   "version": "3.11.4"
  },
  "orig_nbformat": 4
 },
 "nbformat": 4,
 "nbformat_minor": 2
}
